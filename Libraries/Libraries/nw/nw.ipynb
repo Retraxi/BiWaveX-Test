{
 "cells": [
  {
   "cell_type": "code",
   "execution_count": null,
   "metadata": {},
   "outputs": [],
   "source": [
    "from sequence_align.pairwise import alignment_score, needleman_wunsch\n",
    "\n",
    "with open(\"../test_cases/10K/10K_err0.txt\") as querySource:\n",
    "    first_seq = querySource.readline().strip()\n",
    "\n",
    "with open(\"../test_cases/10K/references/10K_err10.txt\") as referenceSource:\n",
    "    second_seq = referenceSource.readline().strip()\n",
    "\n",
    "query = first_seq\n",
    "reference = second_seq\n",
    "\n",
    "aligned_seq_a, aligned_seq_b = needleman_wunsch(\n",
    "    reference,\n",
    "    query,\n",
    "    match_score=0,\n",
    "    mismatch_score=4,\n",
    "    indel_score=6,\n",
    "    gap=\"_\",\n",
    ")\n",
    "\n",
    "score = alignment_score(\n",
    "    aligned_seq_a,\n",
    "    aligned_seq_b,\n",
    "    match_score=0,\n",
    "    mismatch_score=4,\n",
    "    indel_score=6,\n",
    "    gap=\"_\",\n",
    ")\n",
    "print(score)\n"
   ]
  }
 ],
 "metadata": {
  "kernelspec": {
   "display_name": "Python 3",
   "language": "python",
   "name": "python3"
  },
  "language_info": {
   "name": "python",
   "version": "3.12.2"
  }
 },
 "nbformat": 4,
 "nbformat_minor": 2
}

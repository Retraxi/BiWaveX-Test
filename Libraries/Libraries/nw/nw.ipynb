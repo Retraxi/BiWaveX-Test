{
 "cells": [
  {
   "cell_type": "code",
   "execution_count": 17,
   "metadata": {},
   "outputs": [],
   "source": [
    "from sequence_align.pairwise import alignment_score, needleman_wunsch\n",
    "import time\n",
    "\n",
    "def writeOutput(outputPath, reference, query, execTime, libname, score, counter):\n",
    "    with open(outputPath, \"a+\") as out:\n",
    "        out.write(f\"Pattern\\t[Sequence {counter}] (Length {len(reference)}): {reference}\")\n",
    "        out.write(f\"Text\\t[Sequence {counter}] (Length {len(query)}): {query}\")\n",
    "        out.write(f\"Execution Time ({libname})\\t: {(execTime)} ms\\n\")\n",
    "        out.write(f\"Score: {score}\\n\")\n",
    "        out.write(\"----------------------------\\n\")\n",
    "\n",
    "def runSequenceAlignment(referencePath, queryPath, outputName):\n",
    "    queryFile = open(queryPath, \"r\")\n",
    "    referenceFile = open(referencePath, \"r\")\n",
    "\n",
    "    counter = 0\n",
    "    queries = []\n",
    "    references = []\n",
    "    #align and output to score\n",
    "    for query in queryFile:\n",
    "        queries.append(query)\n",
    "\n",
    "    for reference in referenceFile:\n",
    "        references.append(reference)\n",
    "\n",
    "    merged = zip(references, queries)\n",
    "\n",
    "    for testcase in merged:\n",
    "        first_seq = testcase[0]\n",
    "        second_seq = testcase[1]\n",
    "\n",
    "        #start time\n",
    "        startTime = time.perf_counter_ns()\n",
    "        aligned_seq_a, aligned_seq_b = needleman_wunsch(\n",
    "            first_seq,\n",
    "            second_seq,\n",
    "            match_score=0,\n",
    "            mismatch_score=-4,\n",
    "            indel_score=-6,\n",
    "            gap=\"_\",\n",
    "        )\n",
    "\n",
    "        #end time\n",
    "        timeTaken = (time.perf_counter_ns() - startTime) / 1000000.0\n",
    "\n",
    "        score = alignment_score(\n",
    "            aligned_seq_a,\n",
    "            aligned_seq_b,\n",
    "            match_score=0,\n",
    "            mismatch_score=-4,\n",
    "            indel_score=-6,\n",
    "            gap=\"_\",\n",
    "        )\n",
    "\n",
    "        outputFilePath = \"../output/nw/\" + outputName + \".txt\"\n",
    "        writeOutput(outputFilePath, first_seq, second_seq, timeTaken, outputName, score, counter)\n",
    "        counter += 1\n"
   ]
  },
  {
   "cell_type": "code",
   "execution_count": 3,
   "metadata": {},
   "outputs": [
    {
     "name": "stdout",
     "output_type": "stream",
     "text": [
      "-4000.0\n"
     ]
    }
   ],
   "source": [
    "from sequence_align.pairwise import alignment_score, needleman_wunsch\n",
    "\n",
    "# cases\n",
    "cases = [\"10K\", \"20K\", \"30K\", \"40K\", \"50K\", \"60K\", \"70K\", \"80K\", \"90K\", \"100K\"]\n",
    "errors = [\"0\", \"01\", \"05\", \"10\", \"20\", \"30\", \"40\"]\n",
    "\n",
    "for run in cases:\n",
    "    #get query file\n",
    "    queryFile = \"../test_cases/\" + run + \"/\" + run + \"_err0.txt\"\n",
    "    for error in errors:\n",
    "        #get reference file\n",
    "        referenceFile = run + \"_err\" + error\n",
    "        referencePath = \"../test_cases/\" + run + \"/references/\" + referenceFile + \".txt\"\n",
    "        runSequenceAlignment(referencePath, queryFile, referenceFile)\n",
    "        \n",
    "\n"
   ]
  },
  {
   "cell_type": "markdown",
   "metadata": {},
   "source": [
    "queryFile = \"../test_cases/test/test_err0.txt\"\n",
    "referenceFile = \"../test_cases/test/references/test_err10.txt\"\n",
    "\n",
    "outputFileName = \"test_err10\"\n",
    "runSequenceAlignment(referenceFile, queryFile, outputFileName)"
   ]
  }
 ],
 "metadata": {
  "kernelspec": {
   "display_name": "Python 3",
   "language": "python",
   "name": "python3"
  },
  "language_info": {
   "codemirror_mode": {
    "name": "ipython",
    "version": 3
   },
   "file_extension": ".py",
   "mimetype": "text/x-python",
   "name": "python",
   "nbconvert_exporter": "python",
   "pygments_lexer": "ipython3",
   "version": "3.12.2"
  }
 },
 "nbformat": 4,
 "nbformat_minor": 2
}
